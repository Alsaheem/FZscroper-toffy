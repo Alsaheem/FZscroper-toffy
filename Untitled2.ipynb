{
 "cells": [
  {
   "cell_type": "code",
   "execution_count": 18,
   "metadata": {},
   "outputs": [
    {
     "name": "stdout",
     "output_type": "stream",
     "text": [
      "https://fzmovies.net/movie-The Twilight Saga: Breaking Dawn - Part 2--hmp4.htm\n"
     ]
    }
   ],
   "source": [
    "import urllib \n",
    "link = urllib.parse.unquote('https://fzmovies.net/movie-The%20Twilight%20Saga:%20Breaking%20Dawn%20-%20Part%202--hmp4.htm')\n",
    "print(link)"
   ]
  },
  {
   "cell_type": "code",
   "execution_count": 22,
   "metadata": {},
   "outputs": [
    {
     "name": "stdout",
     "output_type": "stream",
     "text": [
      "movie-The Twilight Saga: Breaking Dawn - Part 2--hmp4.htm\n",
      "movie-TheTwilightSaga:BreakingDawn-Part2--hmp4.htm\n"
     ]
    }
   ],
   "source": [
    "x = 'movie-The Twilight Saga: Breaking Dawn - Part 2--hmp4.htm'\n",
    "x.strip()\n",
    "print(x)\n",
    "new = ''.join( x.split() )\n",
    "print(new)"
   ]
  },
  {
   "cell_type": "code",
   "execution_count": null,
   "metadata": {},
   "outputs": [],
   "source": []
  }
 ],
 "metadata": {
  "kernelspec": {
   "display_name": "Python 3",
   "language": "python",
   "name": "python3"
  },
  "language_info": {
   "codemirror_mode": {
    "name": "ipython",
    "version": 3
   },
   "file_extension": ".py",
   "mimetype": "text/x-python",
   "name": "python",
   "nbconvert_exporter": "python",
   "pygments_lexer": "ipython3",
   "version": "3.6.9"
  }
 },
 "nbformat": 4,
 "nbformat_minor": 4
}
